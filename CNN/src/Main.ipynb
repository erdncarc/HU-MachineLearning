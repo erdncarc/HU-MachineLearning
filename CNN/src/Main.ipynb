{
 "cells": [
  {
   "cell_type": "markdown",
   "metadata": {
    "id": "HEPifRWi8RB0"
   },
   "source": [
    "# BBM 409 - Programming Assignment 3"
   ]
  },
  {
   "cell_type": "markdown",
   "metadata": {
    "id": "fRABL12L8RB4"
   },
   "source": [
    "### Erdinç Arıcı - 2210356035"
   ]
  },
  {
   "cell_type": "markdown",
   "metadata": {
    "id": "Qb4QIkS68RB4"
   },
   "source": [
    "## 1 Implementing a CNN from Scratch"
   ]
  },
  {
   "cell_type": "markdown",
   "metadata": {
    "id": "Sq8IboH58RB4"
   },
   "source": [
    "### 1.1 Introduction"
   ]
  },
  {
   "cell_type": "markdown",
   "metadata": {
    "id": "y7ckRJFRRox4"
   },
   "source": [
    "The aim of this task is to apply different deep learning models to classify images in the Animal-10 dataset and evaluate their performance. Architectures such as CNN, ResNet18, and MobileNetV2 are utilized to achieve high accuracy in the classification task. Specifically, the use of pretrained models enhances classification accuracy and facilitates the comparison of overall model performance.\n",
    "\n",
    "CNN architecture is a fundamental structure used in image classification tasks. The main components of a CNN include convolutional layers, activation functions, pooling layers, fully connected layers, and regularization techniques such as dropout. This architecture effectively learns local features in images. Convolutional layers use filters to extract meaningful features from the image, while pooling layers reduce the dimensions of these features, transforming them into a more compact form. Activation functions introduce non-linearity, enabling the learning of more complex relationships. Therefore, CNNs are considered one of the most successful architectures for image classification due to their ability to learn both local and global features.\n",
    "\n",
    "The Animal-10 dataset used in this task consists of 10 different animal classes. The dataset contains a total of 30,000 images representing various animal species. Being a balanced dataset makes it ideal for fairly evaluating model performance across different classes."
   ]
  },
  {
   "cell_type": "markdown",
   "metadata": {
    "id": "9-LA2-Ww8RB6"
   },
   "source": [
    "### 1.2 Data loading and preprocessing"
   ]
  },
  {
   "cell_type": "code",
   "execution_count": 1,
   "metadata": {
    "id": "CzXEXAD68RB6"
   },
   "outputs": [],
   "source": [
    "import os\n",
    "import torch\n",
    "import numpy as np\n",
    "import pandas as pd\n",
    "import seaborn as sns\n",
    "from PIL import Image\n",
    "import torch.nn as nn\n",
    "import torch.optim as optim\n",
    "from torchinfo import summary\n",
    "import matplotlib.pyplot as plt\n",
    "import torch.nn.functional as nnf\n",
    "from google.colab import drive, files\n",
    "from torchvision import datasets, transforms\n",
    "from torch.utils.data import DataLoader, random_split\n",
    "from sklearn.metrics import accuracy_score, precision_score, recall_score, f1_score, confusion_matrix"
   ]
  },
  {
   "cell_type": "code",
   "execution_count": 2,
   "metadata": {
    "colab": {
     "base_uri": "https://localhost:8080/"
    },
    "id": "mDRlIFmu8RB7",
    "outputId": "e95063d4-8ee5-4544-ecba-648b03bfc574"
   },
   "outputs": [
    {
     "name": "stdout",
     "output_type": "stream",
     "text": [
      "Drive already mounted at /content/drive; to attempt to forcibly remount, call drive.mount(\"/content/drive\", force_remount=True).\n"
     ]
    }
   ],
   "source": [
    "drive.mount('/content/drive')\n",
    "path = '/content/drive/My Drive/animal_10'\n",
    "\n",
    "transform = transforms.Compose([\n",
    "    transforms.Resize((256, 256)),\n",
    "    transforms.RandomHorizontalFlip(),\n",
    "    transforms.RandomRotation(15),\n",
    "    transforms.ColorJitter(brightness=0.2, contrast=0.2, saturation=0.2, hue=0.1),\n",
    "    transforms.ToTensor(),\n",
    "    transforms.Normalize(mean=[0.485, 0.456, 0.406], std=[0.229, 0.224, 0.225])\n",
    "])\n",
    "\n",
    "\n",
    "dataset = datasets.ImageFolder(path, transform)\n",
    "\n",
    "train_dataset, val_dataset, test_dataset = random_split(dataset, [3000, 750, 750])\n",
    "\n",
    "train_loader = DataLoader(train_dataset, 64, True, num_workers = 12, pin_memory = True)\n",
    "val_loader = DataLoader(val_dataset, 64, False, num_workers = 12, pin_memory = True)\n",
    "test_loader = DataLoader(test_dataset, 64, False, num_workers = 12, pin_memory = True)"
   ]
  },
  {
   "cell_type": "markdown",
   "metadata": {
    "id": "O6yQkfFD8RB8"
   },
   "source": [
    "### 1.3 Define your CNN architecture"
   ]
  },
  {
   "cell_type": "code",
   "execution_count": 3,
   "metadata": {
    "id": "jYEoFWPJoZ-Y"
   },
   "outputs": [],
   "source": [
    "class CNN(nn.Module):\n",
    "    def __init__(self, classes=10):\n",
    "        super(CNN, self).__init__()\n",
    "        self.conv1 = nn.Conv2d(3, 32, 3, 1, 1)\n",
    "        self.conv2 = nn.Conv2d(32, 64, 3, 1, 1)\n",
    "        self.conv3 = nn.Conv2d(64, 128, 3, 1, 1)\n",
    "        self.conv4 = nn.Conv2d(128, 256, 3, 1, 1)\n",
    "        self.conv5 = nn.Conv2d(256, 512, 3, 1, 1)\n",
    "\n",
    "        self.bn1 = nn.BatchNorm2d(32)\n",
    "        self.bn2 = nn.BatchNorm2d(64)\n",
    "        self.bn3 = nn.BatchNorm2d(128)\n",
    "        self.bn4 = nn.BatchNorm2d(256)\n",
    "        self.bn5 = nn.BatchNorm2d(512)\n",
    "\n",
    "        self.fc1 = nn.Linear(512 * 8 * 8, 1024)\n",
    "        self.fc2 = nn.Linear(1024, classes)\n",
    "\n",
    "        self.pool = nn.MaxPool2d(2, 2, 0)\n",
    "\n",
    "        self.dropout = nn.Dropout(0.5)\n",
    "\n",
    "    def forward(self, x):\n",
    "        x = self.pool(nnf.relu(self.bn1(self.conv1(x))))\n",
    "        x = self.pool(nnf.relu(self.bn2(self.conv2(x))))\n",
    "        x = self.pool(nnf.relu(self.bn3(self.conv3(x))))\n",
    "        x = self.pool(nnf.relu(self.bn4(self.conv4(x))))\n",
    "        x = self.pool(nnf.relu(self.bn5(self.conv5(x))))\n",
    "\n",
    "        x = x.view(x.size(0), -1)\n",
    "\n",
    "        x = nnf.relu(self.fc1(x))\n",
    "        x = self.dropout(x)\n",
    "        x = self.fc2(x)\n",
    "        return x\n",
    "\n",
    "\n",
    "device = torch.device('cuda' if torch.cuda.is_available() else 'cpu')\n",
    "cnn_model = CNN()\n",
    "cnn_model = cnn_model.to(device)"
   ]
  },
  {
   "cell_type": "markdown",
   "metadata": {
    "id": "BGaitmmDUFkn"
   },
   "source": [
    "This CNN architecture is designed to classify images in the Animal-10 dataset. The architecture consists of five consecutive convolutional layers for feature extraction. Increasing the number of output channels as the layers progress allows the model to have a greater capacity for extracting complex features. Batch Normalization is applied after each convolutional layer to speed up the learning process and improve the stability of the model. MaxPooling layers are used after each convolutional layer to reduce spatial dimensions. This process decreases the number of parameters, reduces computational cost, and lowers the risk of overfitting. After feature extraction, the data is flattened and passed to fully connected layers for classification. The first fully connected layer combines the extracted features densely, while the second fully connected layer maps this information to 10 different classes in the Animal-10 dataset.\n",
    "\n",
    "I chose the ReLU activation function for this architecture. ReLU introduces non-linearity, enabling the model to learn more complex relationships and effectively maintain gradient flow. Additionally, since ReLU has a low computational cost, it accelerates the training process."
   ]
  },
  {
   "cell_type": "markdown",
   "metadata": {
    "id": "23njcboArttc"
   },
   "source": [
    "### 1.4 Prepare the model for training"
   ]
  },
  {
   "cell_type": "code",
   "execution_count": 4,
   "metadata": {
    "id": "5Z7dmNGprxDo"
   },
   "outputs": [],
   "source": [
    "crossEntropy = nn.CrossEntropyLoss() # for all models\n",
    "cnn_optimizer = optim.Adam(cnn_model.parameters(), lr=0.0001)"
   ]
  },
  {
   "cell_type": "markdown",
   "metadata": {
    "id": "IkbW9OMcVBeM"
   },
   "source": [
    "In this model, I used the CrossEntropyLoss loss function to minimize classification errors. CrossEntropyLoss is suitable for multi-class classification problems, as it normalizes the probability distribution predicted by the model while measuring the error between the true class and the model's prediction. This applies a larger penalty for incorrect predictions, enabling the model to make more accurate classifications.\n",
    "\n",
    "For the optimization algorithm, I chose Adam. Adam is an adaptive version of gradient descent that automatically optimizes learning rates, enabling a faster and more stable learning process."
   ]
  },
  {
   "cell_type": "markdown",
   "metadata": {
    "id": "3aW87Td98RB9"
   },
   "source": [
    "### 1.5 Train and validate the CNN model"
   ]
  },
  {
   "cell_type": "code",
   "execution_count": 5,
   "metadata": {
    "id": "AFKaTSCBr0nV"
   },
   "outputs": [],
   "source": [
    "def train_process(model, crossEntropy, optimizer, model_name, epoch = 30):\n",
    "    print(f\"Epoch\\t|{model_name}:\tTrain Loss\\tVal Loss\\tAcc\")\n",
    "\n",
    "    best_acc = 0.0\n",
    "    best_epoch = 0\n",
    "\n",
    "    for epoch in range(epoch):\n",
    "        train_loss = 0.0\n",
    "        val_loss = 0.0\n",
    "        y_trues = []\n",
    "        y_preds = []\n",
    "\n",
    "        model.train()\n",
    "        for images, labels in train_loader:\n",
    "            images, labels = images.to(device), labels.to(device)\n",
    "\n",
    "            optimizer.zero_grad()\n",
    "            outputs = model(images)\n",
    "            loss = crossEntropy(outputs, labels)\n",
    "            loss.backward()\n",
    "            optimizer.step()\n",
    "\n",
    "            train_loss += loss.item()\n",
    "\n",
    "        model.eval()\n",
    "        with torch.no_grad():\n",
    "            for images, labels in val_loader:\n",
    "                images, labels = images.to(device), labels.to(device)\n",
    "\n",
    "                outputs = model(images)\n",
    "                loss = crossEntropy(outputs, labels)\n",
    "                val_loss += loss.item()\n",
    "\n",
    "                _, predicted = torch.max(outputs, 1)\n",
    "                y_trues.extend(labels.cpu().numpy())\n",
    "                y_preds.extend(predicted.cpu().numpy())\n",
    "\n",
    "        epoch_train_loss = train_loss / len(train_loader)\n",
    "        epoch_val_loss = val_loss / len(val_loader)\n",
    "        epoch_acc = accuracy_score(y_trues, y_preds)\n",
    "\n",
    "        if epoch_acc > best_acc:\n",
    "            best_acc = epoch_acc\n",
    "            best_epoch = epoch + 1\n",
    "            torch.save(model.state_dict(), f\"best_model_{model_name}.pth\")\n",
    "\n",
    "        print(f\"{epoch + 1}\\t|\\t\\t{epoch_train_loss:.4f}\\t\\t{epoch_val_loss:.4f}\\t\\t{epoch_acc * 100:.2f}%\")\n",
    "\n",
    "    print(f\"\\nBest accuracy: {best_acc * 100:.2f}% achieved at epoch {best_epoch} for {model_name}\")\n",
    "    model.load_state_dict(torch.load(f\"best_model_{model_name}.pth\", weights_only = True))\n",
    "\n",
    "    return model, best_acc"
   ]
  },
  {
   "cell_type": "code",
   "execution_count": 6,
   "metadata": {
    "colab": {
     "base_uri": "https://localhost:8080/"
    },
    "id": "Q3DK67Y8oyKr",
    "outputId": "ec3f9f7f-5124-4d70-e372-ecc512bf5108"
   },
   "outputs": [
    {
     "name": "stdout",
     "output_type": "stream",
     "text": [
      "Epoch\t|rebuildCNN:\tTrain Loss\tVal Loss\tAcc\n",
      "1\t|\t\t2.6305\t\t2.0407\t\t27.73%\n",
      "2\t|\t\t1.9711\t\t1.8748\t\t35.73%\n",
      "3\t|\t\t1.8436\t\t1.8319\t\t35.60%\n",
      "4\t|\t\t1.7434\t\t1.6798\t\t40.13%\n",
      "5\t|\t\t1.6449\t\t1.5882\t\t44.00%\n",
      "6\t|\t\t1.5779\t\t1.6290\t\t41.07%\n",
      "7\t|\t\t1.5148\t\t1.5698\t\t44.27%\n",
      "8\t|\t\t1.4667\t\t1.5800\t\t44.00%\n",
      "9\t|\t\t1.4242\t\t1.5303\t\t46.27%\n",
      "10\t|\t\t1.3805\t\t1.4597\t\t48.13%\n",
      "11\t|\t\t1.3292\t\t1.3822\t\t51.87%\n",
      "12\t|\t\t1.2754\t\t1.3719\t\t51.87%\n",
      "13\t|\t\t1.2408\t\t1.3056\t\t53.87%\n",
      "14\t|\t\t1.2202\t\t1.3888\t\t50.00%\n",
      "15\t|\t\t1.1968\t\t1.4342\t\t51.87%\n",
      "16\t|\t\t1.1682\t\t1.4447\t\t50.80%\n",
      "17\t|\t\t1.1210\t\t1.4227\t\t52.00%\n",
      "18\t|\t\t1.0550\t\t1.3104\t\t55.60%\n",
      "19\t|\t\t1.0701\t\t1.2684\t\t57.07%\n",
      "20\t|\t\t0.9899\t\t1.4027\t\t50.53%\n",
      "21\t|\t\t0.9763\t\t1.3124\t\t56.27%\n",
      "22\t|\t\t0.9810\t\t1.3765\t\t54.53%\n",
      "23\t|\t\t0.9426\t\t1.2630\t\t58.67%\n",
      "24\t|\t\t0.9297\t\t1.2108\t\t57.60%\n",
      "25\t|\t\t0.8860\t\t1.2095\t\t58.80%\n",
      "26\t|\t\t0.8666\t\t1.2370\t\t56.67%\n",
      "27\t|\t\t0.8428\t\t1.2014\t\t60.13%\n",
      "28\t|\t\t0.7998\t\t1.1703\t\t60.53%\n",
      "29\t|\t\t0.7997\t\t1.2187\t\t60.00%\n",
      "30\t|\t\t0.7496\t\t1.1587\t\t62.13%\n",
      "31\t|\t\t0.7356\t\t1.2595\t\t56.93%\n",
      "32\t|\t\t0.7479\t\t1.2507\t\t58.93%\n",
      "33\t|\t\t0.7282\t\t1.2829\t\t58.53%\n",
      "34\t|\t\t0.6985\t\t1.1386\t\t62.00%\n",
      "35\t|\t\t0.6971\t\t1.6393\t\t50.93%\n",
      "36\t|\t\t0.6948\t\t1.2190\t\t60.80%\n",
      "37\t|\t\t0.6524\t\t1.3501\t\t58.53%\n",
      "38\t|\t\t0.6589\t\t1.2179\t\t61.60%\n",
      "39\t|\t\t0.6174\t\t1.1906\t\t62.53%\n",
      "40\t|\t\t0.6188\t\t1.3000\t\t60.80%\n",
      "41\t|\t\t0.6016\t\t1.2127\t\t59.20%\n",
      "42\t|\t\t0.5497\t\t1.3449\t\t59.07%\n",
      "43\t|\t\t0.5654\t\t1.4701\t\t54.80%\n",
      "44\t|\t\t0.5653\t\t1.2502\t\t62.53%\n",
      "45\t|\t\t0.5460\t\t1.2450\t\t62.80%\n",
      "46\t|\t\t0.5141\t\t1.4450\t\t60.13%\n",
      "47\t|\t\t0.5198\t\t1.2941\t\t62.93%\n",
      "48\t|\t\t0.5054\t\t1.2657\t\t63.20%\n",
      "49\t|\t\t0.4862\t\t1.2811\t\t63.87%\n",
      "50\t|\t\t0.4821\t\t1.2282\t\t61.60%\n",
      "51\t|\t\t0.4643\t\t1.2586\t\t62.27%\n",
      "52\t|\t\t0.4758\t\t1.2694\t\t62.00%\n",
      "53\t|\t\t0.4490\t\t1.3763\t\t60.53%\n",
      "54\t|\t\t0.4693\t\t1.4066\t\t61.73%\n",
      "55\t|\t\t0.4452\t\t1.2773\t\t62.67%\n",
      "56\t|\t\t0.4433\t\t1.2655\t\t61.87%\n",
      "57\t|\t\t0.3945\t\t1.2987\t\t62.67%\n",
      "58\t|\t\t0.4177\t\t1.4490\t\t60.27%\n",
      "59\t|\t\t0.4085\t\t1.3897\t\t61.73%\n",
      "60\t|\t\t0.3998\t\t1.4071\t\t63.33%\n",
      "61\t|\t\t0.3729\t\t1.4814\t\t59.73%\n",
      "62\t|\t\t0.3876\t\t1.4310\t\t61.07%\n",
      "63\t|\t\t0.3539\t\t1.3523\t\t63.20%\n",
      "64\t|\t\t0.3541\t\t1.2393\t\t63.87%\n",
      "65\t|\t\t0.3206\t\t1.4146\t\t62.53%\n",
      "66\t|\t\t0.3522\t\t1.3264\t\t63.07%\n",
      "67\t|\t\t0.3142\t\t1.3974\t\t60.80%\n",
      "68\t|\t\t0.3232\t\t1.3504\t\t64.13%\n",
      "69\t|\t\t0.3161\t\t1.3193\t\t63.60%\n",
      "70\t|\t\t0.3092\t\t1.2981\t\t63.73%\n",
      "71\t|\t\t0.2915\t\t1.4459\t\t62.13%\n",
      "72\t|\t\t0.3164\t\t1.3199\t\t64.80%\n",
      "73\t|\t\t0.2874\t\t1.3652\t\t61.60%\n",
      "74\t|\t\t0.3029\t\t1.4696\t\t61.47%\n",
      "75\t|\t\t0.2879\t\t1.3256\t\t64.67%\n",
      "76\t|\t\t0.2612\t\t1.3506\t\t63.47%\n",
      "77\t|\t\t0.2918\t\t1.2962\t\t64.80%\n",
      "78\t|\t\t0.2707\t\t1.4923\t\t63.73%\n",
      "79\t|\t\t0.2487\t\t1.4380\t\t63.87%\n",
      "80\t|\t\t0.2404\t\t1.3278\t\t64.53%\n",
      "81\t|\t\t0.2544\t\t1.3992\t\t65.20%\n",
      "82\t|\t\t0.2531\t\t1.4541\t\t64.53%\n",
      "83\t|\t\t0.2497\t\t1.3622\t\t64.27%\n",
      "84\t|\t\t0.2346\t\t1.3776\t\t65.87%\n",
      "85\t|\t\t0.2263\t\t1.3248\t\t65.07%\n",
      "86\t|\t\t0.2065\t\t1.5744\t\t62.13%\n",
      "87\t|\t\t0.2409\t\t1.4288\t\t63.33%\n",
      "88\t|\t\t0.2252\t\t1.3561\t\t66.93%\n",
      "89\t|\t\t0.2138\t\t1.4189\t\t65.33%\n",
      "90\t|\t\t0.2222\t\t1.5628\t\t61.73%\n",
      "91\t|\t\t0.2074\t\t1.4444\t\t64.40%\n",
      "92\t|\t\t0.2129\t\t1.5585\t\t61.73%\n",
      "93\t|\t\t0.2231\t\t1.3554\t\t63.20%\n",
      "94\t|\t\t0.1924\t\t1.4281\t\t64.80%\n",
      "95\t|\t\t0.1820\t\t1.3945\t\t65.07%\n",
      "96\t|\t\t0.1918\t\t1.4427\t\t66.27%\n",
      "97\t|\t\t0.1990\t\t1.4447\t\t64.93%\n",
      "98\t|\t\t0.2008\t\t1.5210\t\t64.80%\n",
      "99\t|\t\t0.1913\t\t1.5786\t\t63.60%\n",
      "100\t|\t\t0.1665\t\t1.5003\t\t65.33%\n",
      "101\t|\t\t0.1704\t\t1.4963\t\t65.47%\n",
      "102\t|\t\t0.1724\t\t1.7088\t\t64.27%\n",
      "103\t|\t\t0.1876\t\t1.4858\t\t62.80%\n",
      "104\t|\t\t0.1771\t\t1.5522\t\t64.67%\n",
      "105\t|\t\t0.1715\t\t1.4994\t\t64.80%\n",
      "106\t|\t\t0.1718\t\t1.6759\t\t62.67%\n",
      "107\t|\t\t0.1751\t\t1.5901\t\t62.40%\n",
      "108\t|\t\t0.1745\t\t1.5265\t\t64.67%\n",
      "109\t|\t\t0.1646\t\t1.6185\t\t64.00%\n",
      "110\t|\t\t0.1730\t\t1.4491\t\t66.13%\n",
      "111\t|\t\t0.1622\t\t1.4370\t\t65.60%\n",
      "112\t|\t\t0.1481\t\t1.5268\t\t65.33%\n",
      "113\t|\t\t0.1673\t\t1.4543\t\t65.07%\n",
      "114\t|\t\t0.1435\t\t1.5659\t\t64.80%\n",
      "115\t|\t\t0.1413\t\t1.5108\t\t66.13%\n",
      "116\t|\t\t0.1417\t\t1.5079\t\t65.73%\n",
      "117\t|\t\t0.1375\t\t1.5094\t\t64.27%\n",
      "118\t|\t\t0.1468\t\t1.5902\t\t66.40%\n",
      "119\t|\t\t0.1342\t\t1.5906\t\t64.40%\n",
      "120\t|\t\t0.1485\t\t1.4758\t\t64.67%\n",
      "121\t|\t\t0.1431\t\t1.5543\t\t64.67%\n",
      "122\t|\t\t0.1430\t\t1.6589\t\t63.73%\n",
      "123\t|\t\t0.1270\t\t1.6061\t\t64.40%\n",
      "124\t|\t\t0.1299\t\t1.6594\t\t65.60%\n",
      "125\t|\t\t0.1205\t\t1.5424\t\t65.87%\n",
      "126\t|\t\t0.1338\t\t1.5480\t\t63.47%\n",
      "127\t|\t\t0.1469\t\t1.6211\t\t65.87%\n",
      "128\t|\t\t0.1386\t\t1.5368\t\t66.67%\n",
      "129\t|\t\t0.1343\t\t1.5984\t\t65.87%\n",
      "130\t|\t\t0.1341\t\t1.5997\t\t66.27%\n",
      "131\t|\t\t0.1358\t\t1.6430\t\t66.27%\n",
      "132\t|\t\t0.1221\t\t1.6390\t\t64.93%\n",
      "133\t|\t\t0.1172\t\t1.7806\t\t65.20%\n",
      "134\t|\t\t0.1361\t\t1.5751\t\t63.73%\n",
      "135\t|\t\t0.1247\t\t1.5815\t\t66.67%\n",
      "136\t|\t\t0.1169\t\t1.5657\t\t66.53%\n",
      "137\t|\t\t0.1195\t\t1.5156\t\t65.60%\n",
      "138\t|\t\t0.1063\t\t1.6791\t\t66.27%\n",
      "139\t|\t\t0.0952\t\t1.8881\t\t64.13%\n",
      "140\t|\t\t0.1091\t\t1.6735\t\t65.87%\n",
      "141\t|\t\t0.1111\t\t1.7713\t\t63.47%\n",
      "142\t|\t\t0.1167\t\t1.8265\t\t65.20%\n",
      "143\t|\t\t0.1048\t\t1.6940\t\t64.40%\n",
      "144\t|\t\t0.1221\t\t1.7980\t\t61.60%\n",
      "145\t|\t\t0.1195\t\t1.5981\t\t67.33%\n",
      "146\t|\t\t0.1033\t\t1.8620\t\t64.00%\n",
      "147\t|\t\t0.1115\t\t1.7275\t\t64.13%\n",
      "148\t|\t\t0.1023\t\t1.7460\t\t64.53%\n",
      "149\t|\t\t0.1080\t\t1.7472\t\t63.73%\n",
      "150\t|\t\t0.0934\t\t1.7036\t\t65.73%\n",
      "151\t|\t\t0.1139\t\t1.6877\t\t66.67%\n",
      "152\t|\t\t0.1151\t\t1.6742\t\t66.13%\n",
      "153\t|\t\t0.1050\t\t1.6992\t\t65.60%\n",
      "154\t|\t\t0.1024\t\t1.5909\t\t65.73%\n",
      "155\t|\t\t0.1077\t\t1.6878\t\t66.13%\n",
      "156\t|\t\t0.1088\t\t1.7485\t\t65.07%\n",
      "157\t|\t\t0.1024\t\t1.6452\t\t67.20%\n",
      "158\t|\t\t0.1015\t\t1.8951\t\t64.93%\n",
      "159\t|\t\t0.1133\t\t1.7290\t\t64.53%\n",
      "160\t|\t\t0.1073\t\t1.8824\t\t62.13%\n",
      "161\t|\t\t0.1027\t\t1.7397\t\t66.67%\n",
      "162\t|\t\t0.0949\t\t1.8667\t\t63.20%\n",
      "163\t|\t\t0.0955\t\t1.7057\t\t66.93%\n",
      "164\t|\t\t0.0863\t\t1.7557\t\t66.00%\n",
      "165\t|\t\t0.1064\t\t1.8922\t\t66.40%\n",
      "166\t|\t\t0.0965\t\t1.7729\t\t67.33%\n",
      "167\t|\t\t0.0864\t\t1.9414\t\t66.27%\n",
      "168\t|\t\t0.0859\t\t1.7608\t\t67.07%\n",
      "169\t|\t\t0.0872\t\t1.8567\t\t63.87%\n",
      "170\t|\t\t0.0996\t\t1.8267\t\t63.07%\n",
      "171\t|\t\t0.0940\t\t1.7508\t\t65.07%\n",
      "172\t|\t\t0.0925\t\t1.9206\t\t64.93%\n",
      "173\t|\t\t0.1081\t\t1.6022\t\t65.87%\n",
      "174\t|\t\t0.1051\t\t1.8771\t\t65.60%\n",
      "175\t|\t\t0.1079\t\t1.6590\t\t66.00%\n",
      "176\t|\t\t0.0741\t\t1.8186\t\t66.93%\n",
      "177\t|\t\t0.0752\t\t1.6747\t\t66.53%\n",
      "178\t|\t\t0.0853\t\t1.7151\t\t68.00%\n",
      "179\t|\t\t0.1036\t\t2.2061\t\t61.60%\n",
      "180\t|\t\t0.1040\t\t1.7354\t\t66.00%\n",
      "181\t|\t\t0.0792\t\t1.7970\t\t67.60%\n",
      "182\t|\t\t0.0818\t\t1.7116\t\t67.87%\n",
      "183\t|\t\t0.0749\t\t1.7726\t\t67.33%\n",
      "184\t|\t\t0.0739\t\t1.8669\t\t66.67%\n",
      "185\t|\t\t0.0773\t\t1.8524\t\t64.27%\n",
      "186\t|\t\t0.0821\t\t2.0136\t\t64.40%\n",
      "187\t|\t\t0.0814\t\t1.9420\t\t65.47%\n",
      "188\t|\t\t0.0878\t\t1.8946\t\t64.93%\n",
      "189\t|\t\t0.0865\t\t1.7211\t\t66.13%\n",
      "190\t|\t\t0.0828\t\t1.8882\t\t64.40%\n",
      "191\t|\t\t0.0670\t\t1.7174\t\t67.20%\n",
      "192\t|\t\t0.0856\t\t1.7827\t\t66.00%\n",
      "193\t|\t\t0.0806\t\t2.0046\t\t65.60%\n",
      "194\t|\t\t0.1142\t\t1.8079\t\t64.93%\n",
      "195\t|\t\t0.0984\t\t1.8337\t\t65.20%\n",
      "196\t|\t\t0.0960\t\t1.7443\t\t66.67%\n",
      "197\t|\t\t0.0680\t\t1.8480\t\t65.60%\n",
      "198\t|\t\t0.0729\t\t1.9811\t\t66.00%\n",
      "199\t|\t\t0.0818\t\t1.8209\t\t67.47%\n",
      "200\t|\t\t0.0619\t\t1.8601\t\t67.07%\n",
      "\n",
      "Best accuracy: 68.00% achieved at epoch 178 for rebuildCNN\n"
     ]
    }
   ],
   "source": [
    "best_CNN, _ = train_process(cnn_model, crossEntropy, cnn_optimizer, \"rebuildCNN\", 200)"
   ]
  },
  {
   "cell_type": "markdown",
   "metadata": {
    "id": "86YzyL-xr-Z6"
   },
   "source": [
    "Initially, I chose a batch size of 32 and a learning rate of 0.01 for training the model. This combination was selected to ensure reasonably fast updates during training while maintaining computational efficiency. However, during the training process, I observed that the model's performance and stability could be improved. To address this, I updated the batch size to 64, allowing the model to process more samples in each iteration, leading to more stable gradient updates. Simultaneously, I adjusted the learning rate to 0.0001, enabling the model to take smaller steps during optimization, which helps avoid overshooting and ensures a more stable convergence, especially for complex architectures. This updated configuration provided better results in terms of both training stability and accuracy."
   ]
  },
  {
   "cell_type": "markdown",
   "metadata": {
    "id": "Snzyw25wy2qD"
   },
   "source": [
    "### 1.6 Evaluate the trained model on the test set (6 points)"
   ]
  },
  {
   "cell_type": "code",
   "execution_count": 7,
   "metadata": {
    "id": "QzZCISJRy7eR"
   },
   "outputs": [],
   "source": [
    "def test_process(model):\n",
    "  model.eval()\n",
    "  y_true = []\n",
    "  y_pred = []\n",
    "\n",
    "  with torch.no_grad():\n",
    "      for images, labels in test_loader:\n",
    "          images, labels = images.to(device), labels.to(device)\n",
    "\n",
    "          outputs = model(images)\n",
    "          _, predicted = torch.max(outputs, 1)\n",
    "          y_true.extend(labels.cpu().numpy())\n",
    "          y_pred.extend(predicted.cpu().numpy())\n",
    "\n",
    "  print(f\"Accuracy: {accuracy_score(y_true, y_pred):.4f}\\n\",\n",
    "        f\"Precision: {precision_score(y_true, y_pred, average='weighted'):.4f}\\n\",\n",
    "        f\"Recall: {recall_score(y_true, y_pred, average='weighted'):.4f}\\n\",\n",
    "        f\"F1: {f1_score(y_true, y_pred, average='weighted'):.4f}\\n\")\n",
    "\n",
    "  cm = confusion_matrix(y_true, y_pred)\n",
    "  plt.figure(figsize=(6, 5))\n",
    "  sns.heatmap(cm, annot=True, fmt='d', cmap='Blues', xticklabels=dataset.classes, yticklabels=dataset.classes)\n",
    "  plt.xlabel('Predicted Labels')\n",
    "  plt.ylabel('True Labels')\n",
    "  plt.show()"
   ]
  },
  {
   "cell_type": "code",
   "execution_count": 8,
   "metadata": {
    "colab": {
     "base_uri": "https://localhost:8080/",
     "height": 609
    },
    "id": "UQXSMYfJtK1v",
    "outputId": "55051604-65b9-431b-e76a-e142619a0988"
   },
   "outputs": [
    {
     "name": "stdout",
     "output_type": "stream",
     "text": [
      "Accuracy: 0.6667\n",
      " Precision: 0.6684\n",
      " Recall: 0.6667\n",
      " F1: 0.6636\n",
      "\n"
     ]
    },
    {
     "data": {
      "image/png": "[encoded data removed]",
      "text/plain": [
       "<Figure size 600x500 with 2 Axes>"
      ]
     },
     "metadata": {},
     "output_type": "display_data"
    }
   ],
   "source": [
    "test_process(best_CNN)"
   ]
  },
  {
   "cell_type": "markdown",
   "metadata": {
    "id": "dSv8WRnEheZn"
   },
   "source": [
    "The performance of this model has been evaluated using metrics such as accuracy, precision, recall, and F1-score. The overall accuracy is 66.67%, indicating that the model correctly classified approximately 67% of all samples. This demonstrates a moderate level of performance, but it also highlights the need for improvement. The precision score of 66.84% reflects the proportion of correct predictions, showing that some classes are classified more accurately than others. Similarly, the recall score is 66.67%, which aligns with the overall accuracy and indicates the model's ability to capture true positives. The F1-score, which balances precision and recall, is calculated as 66.36%, reflecting the model's ability to maintain a balance between accurate classifications and capturing all positive instances.\n",
    "\n",
    "When examining class-specific performance, the model performs better on classes such as \"ragno\", \"farfalla\". However, it struggles with classes like \"cane\", where misclassifications are more frequent. The confusion matrix reveals significant confusion between visually similar classes, such as \"mucca\" and \"cavallo\" or \"gatto\" and \"cane.\" This indicates the model's difficulty in distinguishing shared features between these classes."
   ]
  },
  {
   "cell_type": "markdown",
   "metadata": {
    "id": "RCPD35O9zPri"
   },
   "source": [
    "### 1.7 Conclusion and interpretation"
   ]
  },
  {
   "cell_type": "markdown",
   "metadata": {
    "id": "4kAI48iKjaM8"
   },
   "source": [
    "The model's performance on the test set achieved an overall accuracy of 67%, indicating a moderate level of success. Precision, recall, and F1-score values demonstrate that the model is capable of effectively classifying some classes but struggles with others. This highlights the model's inability to distinguish shared features between certain classes.\n",
    "\n",
    "During training, several key challenges were encountered. The visual similarity between certain classes in the dataset made predictions more difficult for the model. Additionally, the risk of overfitting emerged as an issue in the later stages of training. The choice of learning rate also required careful consideration to balance stability and convergence speed.\n",
    "\n",
    "Several improvements can be made to enhance the model's performance. Implementing data augmentation techniques can increase the diversity of the dataset and improve the model's generalization capability. Addressing class imbalance by oversampling underrepresented classes or using weighted loss functions can help improve per-class accuracy. Furthermore, leveraging more advanced pretrained models such as ResNet50 or MobileNet could facilitate the learning of more distinctive features.\n",
    "\n",
    "In conclusion, the selected CNN architecture offers a balanced structure in terms of computational efficiency and learning capacity. However, the challenges faced in distinguishing visually similar classes indicate the need for further improvements. While the training strategy, particularly the use of a low learning rate and Adam optimizer, ensured stable convergence, performance can be further enhanced with advanced techniques. Overall, the model's performance is acceptable but has significant potential for improvement."
   ]
  },
  {
   "cell_type": "markdown",
   "metadata": {
    "id": "LRSuH_PhblsG"
   },
   "source": [
    "### 1.8 Kaggle test result"
   ]
  },
  {
   "cell_type": "code",
   "execution_count": 9,
   "metadata": {
    "id": "CMHmzp2WjhHE"
   },
   "outputs": [],
   "source": [
    "def Kaggle(best_model, model_name):\n",
    "  test_dir = '/content/drive/My Drive/cnn_test'\n",
    "\n",
    "  test_image_paths = [os.path.join(test_dir, img_name) for img_name in os.listdir(test_dir)]\n",
    "  sorted_files = sorted(test_image_paths, key=lambda x: int(''.join(filter(str.isdigit, x))))\n",
    "\n",
    "  test_images = []\n",
    "  for img_path in sorted_files:\n",
    "      img = Image.open(img_path).convert('RGB').resize((256, 256))\n",
    "      img = transforms.ToTensor()(img)\n",
    "      img = transforms.Normalize(mean=[0.485, 0.456, 0.406], std=[0.229, 0.224, 0.225])(img)\n",
    "      test_images.append(img)\n",
    "\n",
    "  test_images = torch.stack(test_images)\n",
    "\n",
    "  best_model.eval()\n",
    "  predictions = []\n",
    "  with torch.no_grad():\n",
    "      for image in test_images:\n",
    "          image = image.unsqueeze(0).to(device)\n",
    "          output = best_model(image)\n",
    "          predicted_class = output.argmax(dim=1).item()\n",
    "          predictions.append(predicted_class)\n",
    "\n",
    "  class_labels = {0: 'cane', 1: 'cavallo', 2: 'elefante', 3: 'farfalla', 4: 'gallina', 5: 'gatto', 6: 'mucca', 7: 'pecora', 8: 'ragno', 9: 'scoiattolo'}\n",
    "  df = pd.DataFrame({'ID': range(1, len(predictions) + 1), 'Label': [class_labels[p] for p in predictions]})\n",
    "  df.to_csv(f'{model_name}.csv', index=False)\n",
    "  files.download(f'{model_name}.csv')"
   ]
  },
  {
   "cell_type": "code",
   "execution_count": 10,
   "metadata": {
    "colab": {
     "base_uri": "https://localhost:8080/",
     "height": 17
    },
    "id": "TP2Pjm5LJ5wU",
    "outputId": "02fb796d-6499-4b33-f4ed-f9becd5dc65f"
   },
   "outputs": [
    {
     "data": {
      "application/javascript": [
       "\n",
       "    async function download(id, filename, size) {\n",
       "      if (!google.colab.kernel.accessAllowed) {\n",
       "        return;\n",
       "      }\n",
       "      const div = document.createElement('div');\n",
       "      const label = document.createElement('label');\n",
       "      label.textContent = `Downloading \"${filename}\": `;\n",
       "      div.appendChild(label);\n",
       "      const progress = document.createElement('progress');\n",
       "      progress.max = size;\n",
       "      div.appendChild(progress);\n",
       "      document.body.appendChild(div);\n",
       "\n",
       "      const buffers = [];\n",
       "      let downloaded = 0;\n",
       "\n",
       "      const channel = await google.colab.kernel.comms.open(id);\n",
       "      // Send a message to notify the kernel that we're ready.\n",
       "      channel.send({})\n",
       "\n",
       "      for await (const message of channel.messages) {\n",
       "        // Send a message to notify the kernel that we're ready.\n",
       "        channel.send({})\n",
       "        if (message.buffers) {\n",
       "          for (const buffer of message.buffers) {\n",
       "            buffers.push(buffer);\n",
       "            downloaded += buffer.byteLength;\n",
       "            progress.value = downloaded;\n",
       "          }\n",
       "        }\n",
       "      }\n",
       "      const blob = new Blob(buffers, {type: 'application/binary'});\n",
       "      const a = document.createElement('a');\n",
       "      a.href = window.URL.createObjectURL(blob);\n",
       "      a.download = filename;\n",
       "      div.appendChild(a);\n",
       "      a.click();\n",
       "      div.remove();\n",
       "    }\n",
       "  "
      ],
      "text/plain": [
       "<IPython.core.display.Javascript object>"
      ]
     },
     "metadata": {},
     "output_type": "display_data"
    },
    {
     "data": {
      "application/javascript": [
       "download(\"download_d8830ec9-3375-41df-bd97-ebfd9158f4cd\", \"rebuildCNN.csv\", 8685)"
      ],
      "text/plain": [
       "<IPython.core.display.Javascript object>"
      ]
     },
     "metadata": {},
     "output_type": "display_data"
    }
   ],
   "source": [
    "Kaggle(cnn_model, \"rebuildCNN\")"
   ]
  },
  {
   "cell_type": "markdown",
   "metadata": {
    "id": "vOGZz3q-kmyM"
   },
   "source": [
    "#### Kaggle result : 0.688 (username = RdncRc)"
   ]
  },
  {
   "cell_type": "markdown",
   "metadata": {
    "id": "50eLxHnpknEC"
   },
   "source": [
    "\n",
    "The model's accuracy on Kaggle was calculated as 68.8%, indicating a reasonable starting performance. While the model successfully classified many examples in the dataset, it is clear that it struggled with some classes, likely experiencing confusion between visually similar categories. This accuracy level is acceptable for a basic CNN or less complex architecture, but it is evident that the model needs to be improved to achieve higher accuracy levels."
   ]
  },
  {
   "cell_type": "markdown",
   "metadata": {
    "id": "Jfa8FPbS8RCC"
   },
   "source": [
    "## 2 Exploring transfer learning with ResNet50 and MobileNet"
   ]
  },
  {
   "cell_type": "markdown",
   "metadata": {
    "id": "70saVqfas_xw"
   },
   "source": [
    "### 2.1. Introduction"
   ]
  },
  {
   "cell_type": "markdown",
   "metadata": {
    "id": "mWdgM_HImMBH"
   },
   "source": [
    "In this task, fine-tuning has been applied to classify images in the Animal-10 dataset using pretrained models like ResNet-18 and MobileNetV2. The fine-tuning process involves replacing the final fully connected layer of these models to adapt them to the 10 classes in the Animal-10 dataset. In the initial stage, all layers of the model were frozen, and only the final layer was trained. Later, some deeper layers were unfrozen and trained, and finally, the entire model was unfrozen and trained end-to-end. This process was implemented to adapt the model efficiently to the new task.\n",
    "\n",
    "Fine-tuning is a method used to adapt pretrained models to a new task or dataset. For instance, ResNet-18 and MobileNetV2 are models pretrained on ImageNet and have learned general features. The fine-tuning process adapts these general features to the new dataset, reducing training time and achieving better performance with limited data.\n",
    "\n",
    "Freezing the early layers of the model and training only the final layer offers several advantages. First, general features are preserved since early layers predominantly learn basic features applicable to most types of images. Second, this approach allows the model to focus solely on the classification task specific to the Animal-10 dataset. Additionally, it is computationally efficient because only the final layer is trained, requiring fewer parameter updates and less time. In later stages, unfreezing deeper layers allows the model to learn more complex, dataset-specific features."
   ]
  },
  {
   "cell_type": "markdown",
   "metadata": {
    "id": "7AUPSGkss_xx"
   },
   "source": [
    "### 2.2 Load the pre-trained ResNet18 model\n"
   ]
  },
  {
   "cell_type": "code",
   "execution_count": 11,
   "metadata": {
    "colab": {
     "base_uri": "https://localhost:8080/"
    },
    "collapsed": true,
    "id": "ujz4g2mJs_xx",
    "jupyter": {
     "outputs_hidden": true
    },
    "outputId": "400ed60d-3465-4e60-c701-6e18960d147b"
   },
   "outputs": [
    {
     "data": {
      "text/plain": [
       "===================================================================================================================\n",
       "Layer (type:depth-idx)                   Input Shape               Output Shape              Trainable\n",
       "===================================================================================================================\n",
       "ResNet                                   [1, 3, 256, 256]          [1, 1000]                 True\n",
       "├─Conv2d: 1-1                            [1, 3, 256, 256]          [1, 64, 128, 128]         True\n",
       "├─BatchNorm2d: 1-2                       [1, 64, 128, 128]         [1, 64, 128, 128]         True\n",
       "├─ReLU: 1-3                              [1, 64, 128, 128]         [1, 64, 128, 128]         --\n",
       "├─MaxPool2d: 1-4                         [1, 64, 128, 128]         [1, 64, 64, 64]           --\n",
       "├─Sequential: 1-5                        [1, 64, 64, 64]           [1, 64, 64, 64]           True\n",
       "│    └─BasicBlock: 2-1                   [1, 64, 64, 64]           [1, 64, 64, 64]           True\n",
       "│    │    └─Conv2d: 3-1                  [1, 64, 64, 64]           [1, 64, 64, 64]           True\n",
       "│    │    └─BatchNorm2d: 3-2             [1, 64, 64, 64]           [1, 64, 64, 64]           True\n",
       "│    │    └─ReLU: 3-3                    [1, 64, 64, 64]           [1, 64, 64, 64]           --\n",
       "│    │    └─Conv2d: 3-4                  [1, 64, 64, 64]           [1, 64, 64, 64]           True\n",
       "│    │    └─BatchNorm2d: 3-5             [1, 64, 64, 64]           [1, 64, 64, 64]           True\n",
       "│    │    └─ReLU: 3-6                    [1, 64, 64, 64]           [1, 64, 64, 64]           --\n",
       "│    └─BasicBlock: 2-2                   [1, 64, 64, 64]           [1, 64, 64, 64]           True\n",
       "│    │    └─Conv2d: 3-7                  [1, 64, 64, 64]           [1, 64, 64, 64]           True\n",
       "│    │    └─BatchNorm2d: 3-8             [1, 64, 64, 64]           [1, 64, 64, 64]           True\n",
       "│    │    └─ReLU: 3-9                    [1, 64, 64, 64]           [1, 64, 64, 64]           --\n",
       "│    │    └─Conv2d: 3-10                 [1, 64, 64, 64]           [1, 64, 64, 64]           True\n",
       "│    │    └─BatchNorm2d: 3-11            [1, 64, 64, 64]           [1, 64, 64, 64]           True\n",
       "│    │    └─ReLU: 3-12                   [1, 64, 64, 64]           [1, 64, 64, 64]           --\n",
       "├─Sequential: 1-6                        [1, 64, 64, 64]           [1, 128, 32, 32]          True\n",
       "│    └─BasicBlock: 2-3                   [1, 64, 64, 64]           [1, 128, 32, 32]          True\n",
       "│    │    └─Conv2d: 3-13                 [1, 64, 64, 64]           [1, 128, 32, 32]          True\n",
       "│    │    └─BatchNorm2d: 3-14            [1, 128, 32, 32]          [1, 128, 32, 32]          True\n",
       "│    │    └─ReLU: 3-15                   [1, 128, 32, 32]          [1, 128, 32, 32]          --\n",
       "│    │    └─Conv2d: 3-16                 [1, 128, 32, 32]          [1, 128, 32, 32]          True\n",
       "│    │    └─BatchNorm2d: 3-17            [1, 128, 32, 32]          [1, 128, 32, 32]          True\n",
       "│    │    └─Sequential: 3-18             [1, 64, 64, 64]           [1, 128, 32, 32]          True\n",
       "│    │    └─ReLU: 3-19                   [1, 128, 32, 32]          [1, 128, 32, 32]          --\n",
       "│    └─BasicBlock: 2-4                   [1, 128, 32, 32]          [1, 128, 32, 32]          True\n",
       "│    │    └─Conv2d: 3-20                 [1, 128, 32, 32]          [1, 128, 32, 32]          True\n",
       "│    │    └─BatchNorm2d: 3-21            [1, 128, 32, 32]          [1, 128, 32, 32]          True\n",
       "│    │    └─ReLU: 3-22                   [1, 128, 32, 32]          [1, 128, 32, 32]          --\n",
       "│    │    └─Conv2d: 3-23                 [1, 128, 32, 32]          [1, 128, 32, 32]          True\n",
       "│    │    └─BatchNorm2d: 3-24            [1, 128, 32, 32]          [1, 128, 32, 32]          True\n",
       "│    │    └─ReLU: 3-25                   [1, 128, 32, 32]          [1, 128, 32, 32]          --\n",
       "├─Sequential: 1-7                        [1, 128, 32, 32]          [1, 256, 16, 16]          True\n",
       "│    └─BasicBlock: 2-5                   [1, 128, 32, 32]          [1, 256, 16, 16]          True\n",
       "│    │    └─Conv2d: 3-26                 [1, 128, 32, 32]          [1, 256, 16, 16]          True\n",
       "│    │    └─BatchNorm2d: 3-27            [1, 256, 16, 16]          [1, 256, 16, 16]          True\n",
       "│    │    └─ReLU: 3-28                   [1, 256, 16, 16]          [1, 256, 16, 16]          --\n",
       "│    │    └─Conv2d: 3-29                 [1, 256, 16, 16]          [1, 256, 16, 16]          True\n",
       "│    │    └─BatchNorm2d: 3-30            [1, 256, 16, 16]          [1, 256, 16, 16]          True\n",
       "│    │    └─Sequential: 3-31             [1, 128, 32, 32]          [1, 256, 16, 16]          True\n",
       "│    │    └─ReLU: 3-32                   [1, 256, 16, 16]          [1, 256, 16, 16]          --\n",
       "│    └─BasicBlock: 2-6                   [1, 256, 16, 16]          [1, 256, 16, 16]          True\n",
       "│    │    └─Conv2d: 3-33                 [1, 256, 16, 16]          [1, 256, 16, 16]          True\n",
       "│    │    └─BatchNorm2d: 3-34            [1, 256, 16, 16]          [1, 256, 16, 16]          True\n",
       "│    │    └─ReLU: 3-35                   [1, 256, 16, 16]          [1, 256, 16, 16]          --\n",
       "│    │    └─Conv2d: 3-36                 [1, 256, 16, 16]          [1, 256, 16, 16]          True\n",
       "│    │    └─BatchNorm2d: 3-37            [1, 256, 16, 16]          [1, 256, 16, 16]          True\n",
       "│    │    └─ReLU: 3-38                   [1, 256, 16, 16]          [1, 256, 16, 16]          --\n",
       "├─Sequential: 1-8                        [1, 256, 16, 16]          [1, 512, 8, 8]            True\n",
       "│    └─BasicBlock: 2-7                   [1, 256, 16, 16]          [1, 512, 8, 8]            True\n",
       "│    │    └─Conv2d: 3-39                 [1, 256, 16, 16]          [1, 512, 8, 8]            True\n",
       "│    │    └─BatchNorm2d: 3-40            [1, 512, 8, 8]            [1, 512, 8, 8]            True\n",
       "│    │    └─ReLU: 3-41                   [1, 512, 8, 8]            [1, 512, 8, 8]            --\n",
       "│    │    └─Conv2d: 3-42                 [1, 512, 8, 8]            [1, 512, 8, 8]            True\n",
       "│    │    └─BatchNorm2d: 3-43            [1, 512, 8, 8]            [1, 512, 8, 8]            True\n",
       "│    │    └─Sequential: 3-44             [1, 256, 16, 16]          [1, 512, 8, 8]            True\n",
       "│    │    └─ReLU: 3-45                   [1, 512, 8, 8]            [1, 512, 8, 8]            --\n",
       "│    └─BasicBlock: 2-8                   [1, 512, 8, 8]            [1, 512, 8, 8]            True\n",
       "│    │    └─Conv2d: 3-46                 [1, 512, 8, 8]            [1, 512, 8, 8]            True\n",
       "│    │    └─BatchNorm2d: 3-47            [1, 512, 8, 8]            [1, 512, 8, 8]            True\n",
       "│    │    └─ReLU: 3-48                   [1, 512, 8, 8]            [1, 512, 8, 8]            --\n",
       "│    │    └─Conv2d: 3-49                 [1, 512, 8, 8]            [1, 512, 8, 8]            True\n",
       "│    │    └─BatchNorm2d: 3-50            [1, 512, 8, 8]            [1, 512, 8, 8]            True\n",
       "│    │    └─ReLU: 3-51                   [1, 512, 8, 8]            [1, 512, 8, 8]            --\n",
       "├─AdaptiveAvgPool2d: 1-9                 [1, 512, 8, 8]            [1, 512, 1, 1]            --\n",
       "├─Linear: 1-10                           [1, 512]                  [1, 1000]                 True\n",
       "===================================================================================================================\n",
       "Total params: 11,689,512\n",
       "Trainable params: 11,689,512\n",
       "Non-trainable params: 0\n",
       "Total mult-adds (G): 2.37\n",
       "===================================================================================================================\n",
       "Input size (MB): 0.79\n",
       "Forward/backward pass size (MB): 51.91\n",
       "Params size (MB): 46.76\n",
       "Estimated Total Size (MB): 99.46\n",
       "==================================================================================================================="
      ]
     },
     "execution_count": 11,
     "metadata": {},
     "output_type": "execute_result"
    }
   ],
   "source": [
    "import torchvision.models as models\n",
    "\n",
    "weights = models.ResNet18_Weights.DEFAULT\n",
    "restnet_model_base = models.resnet18(weights = weights).to(device)\n",
    "\n",
    "summary(restnet_model_base, (1, 3, 256, 256), col_names=[\"input_size\", \"output_size\", \"trainable\"])"
   ]
  },
  {
   "cell_type": "markdown",
   "metadata": {
    "id": "H6P7NdYbs_xx"
   },
   "source": [
    "### 2.3 Modify the ResNet18 model for transfer learning"
   ]
  },
  {
   "cell_type": "code",
   "execution_count": 12,
   "metadata": {
    "id": "s46C2XOls_xx"
   },
   "outputs": [],
   "source": [
    "for param in restnet_model_base.parameters():\n",
    "    param.requires_grad = False\n",
    "\n",
    "restnet_model_base.fc = nn.Linear(512, 10).to(device)\n",
    "\n",
    "for param in restnet_model_base.fc.parameters():\n",
    "    param.requires_grad = True\n",
    "\n",
    "crossEntropy = nn.CrossEntropyLoss()\n",
    "optimizer_base = torch.optim.Adam(restnet_model_base.parameters(), lr=0.0001)"
   ]
  },
  {
   "cell_type": "code",
   "execution_count": 13,
   "metadata": {
    "colab": {
     "base_uri": "https://localhost:8080/"
    },
    "id": "Kj_xhy-tpDAg",
    "outputId": "6746e725-2c1d-4944-a950-60847a69f9f1"
   },
   "outputs": [
    {
     "name": "stdout",
     "output_type": "stream",
     "text": [
      "Epoch\t|ResNet18-1:\tTrain Loss\tVal Loss\tAcc\n",
      "1\t|\t\t2.2928\t\t2.1018\t\t26.80%\n",
      "2\t|\t\t1.9832\t\t1.8597\t\t46.40%\n",
      "3\t|\t\t1.7399\t\t1.6433\t\t60.00%\n",
      "4\t|\t\t1.5332\t\t1.4461\t\t69.47%\n",
      "5\t|\t\t1.3694\t\t1.3074\t\t75.60%\n",
      "6\t|\t\t1.2288\t\t1.1723\t\t79.07%\n",
      "7\t|\t\t1.1089\t\t1.0725\t\t80.53%\n",
      "8\t|\t\t1.0141\t\t0.9945\t\t81.47%\n",
      "9\t|\t\t0.9307\t\t0.9155\t\t83.47%\n",
      "10\t|\t\t0.8726\t\t0.8545\t\t84.40%\n",
      "11\t|\t\t0.8131\t\t0.7874\t\t85.73%\n",
      "12\t|\t\t0.7708\t\t0.7662\t\t86.13%\n",
      "13\t|\t\t0.7150\t\t0.7135\t\t85.73%\n",
      "14\t|\t\t0.6840\t\t0.6943\t\t86.93%\n",
      "15\t|\t\t0.6554\t\t0.6557\t\t87.60%\n",
      "16\t|\t\t0.6174\t\t0.6309\t\t87.33%\n",
      "17\t|\t\t0.5918\t\t0.6025\t\t87.87%\n",
      "18\t|\t\t0.5690\t\t0.5951\t\t88.80%\n",
      "19\t|\t\t0.5536\t\t0.5417\t\t88.67%\n",
      "20\t|\t\t0.5344\t\t0.5547\t\t88.27%\n",
      "21\t|\t\t0.5150\t\t0.5210\t\t89.73%\n",
      "22\t|\t\t0.5064\t\t0.5074\t\t88.40%\n",
      "23\t|\t\t0.4748\t\t0.5136\t\t88.67%\n",
      "24\t|\t\t0.4716\t\t0.5042\t\t88.00%\n",
      "25\t|\t\t0.4660\t\t0.4899\t\t88.67%\n",
      "26\t|\t\t0.4572\t\t0.4617\t\t89.47%\n",
      "27\t|\t\t0.4376\t\t0.4601\t\t89.33%\n",
      "28\t|\t\t0.4272\t\t0.4476\t\t88.67%\n",
      "29\t|\t\t0.4271\t\t0.4391\t\t89.20%\n",
      "30\t|\t\t0.4203\t\t0.4421\t\t89.20%\n",
      "\n",
      "Best accuracy: 89.73% achieved at epoch 21 for ResNet18-1\n"
     ]
    }
   ],
   "source": [
    "best_resnet_base, acc_base = train_process(restnet_model_base, crossEntropy, optimizer_base, \"ResNet18-1\")"
   ]
  },
  {
   "cell_type": "code",
   "execution_count": 14,
   "metadata": {
    "id": "FlEHAyNX0QP0"
   },
   "outputs": [],
   "source": [
    "import torchvision.models as models\n",
    "\n",
    "weights = models.ResNet18_Weights.DEFAULT\n",
    "restnet_model_second = models.resnet18(weights = weights).to(device)\n",
    "\n",
    "for param in restnet_model_second.parameters():\n",
    "    param.requires_grad = False\n",
    "\n",
    "restnet_model_second.fc = nn.Linear(512, 10).to(device)\n",
    "\n",
    "for param in restnet_model_second.fc.parameters():\n",
    "    param.requires_grad = True\n",
    "\n",
    "for name, param in restnet_model_second.named_parameters():\n",
    "    if \"layer3\" in name or \"layer4\" in name:\n",
    "        param.requires_grad = True\n",
    "\n",
    "crossEntropy = nn.CrossEntropyLoss()\n",
    "optimizer_second = torch.optim.Adam(restnet_model_second.parameters(), lr=0.0001)"
   ]
  },
  {
   "cell_type": "code",
   "execution_count": 15,
   "metadata": {
    "colab": {
     "base_uri": "https://localhost:8080/"
    },
    "id": "82AD2Dn50cbg",
    "outputId": "5c9c286e-43ba-47d0-b5c9-ab4a082ec687"
   },
   "outputs": [
    {
     "name": "stdout",
     "output_type": "stream",
     "text": [
      "Epoch\t|ResNet18-2:\tTrain Loss\tVal Loss\tAcc\n",
      "1\t|\t\t0.8613\t\t0.3512\t\t90.40%\n",
      "2\t|\t\t0.2361\t\t0.2807\t\t91.47%\n",
      "3\t|\t\t0.1327\t\t0.2355\t\t92.93%\n",
      "4\t|\t\t0.0884\t\t0.2327\t\t92.40%\n",
      "5\t|\t\t0.0572\t\t0.2002\t\t94.53%\n",
      "6\t|\t\t0.0424\t\t0.2064\t\t93.47%\n",
      "7\t|\t\t0.0291\t\t0.2299\t\t92.80%\n",
      "8\t|\t\t0.0246\t\t0.2025\t\t93.87%\n",
      "9\t|\t\t0.0186\t\t0.2405\t\t93.07%\n",
      "10\t|\t\t0.0154\t\t0.2163\t\t93.87%\n",
      "11\t|\t\t0.0111\t\t0.1980\t\t94.27%\n",
      "12\t|\t\t0.0088\t\t0.2441\t\t92.80%\n",
      "13\t|\t\t0.0081\t\t0.1895\t\t94.93%\n",
      "14\t|\t\t0.0075\t\t0.2449\t\t92.93%\n",
      "15\t|\t\t0.0080\t\t0.2126\t\t94.40%\n",
      "16\t|\t\t0.0064\t\t0.1929\t\t95.33%\n",
      "17\t|\t\t0.0086\t\t0.2503\t\t92.93%\n",
      "18\t|\t\t0.0121\t\t0.2361\t\t92.93%\n",
      "19\t|\t\t0.0088\t\t0.2307\t\t93.87%\n",
      "20\t|\t\t0.0056\t\t0.1955\t\t94.80%\n",
      "21\t|\t\t0.0058\t\t0.2143\t\t94.40%\n",
      "22\t|\t\t0.0060\t\t0.1868\t\t94.27%\n",
      "23\t|\t\t0.0070\t\t0.2230\t\t93.87%\n",
      "24\t|\t\t0.0074\t\t0.2142\t\t93.60%\n",
      "25\t|\t\t0.0065\t\t0.2326\t\t93.87%\n",
      "26\t|\t\t0.0058\t\t0.2723\t\t93.87%\n",
      "27\t|\t\t0.0065\t\t0.2620\t\t94.27%\n",
      "28\t|\t\t0.0030\t\t0.2429\t\t94.00%\n",
      "29\t|\t\t0.0030\t\t0.2305\t\t93.73%\n",
      "30\t|\t\t0.0076\t\t0.2440\t\t93.33%\n",
      "\n",
      "Best accuracy: 95.33% achieved at epoch 16 for ResNet18-2\n"
     ]
    }
   ],
   "source": [
    "best_resnet_second, acc_second = train_process(restnet_model_second, crossEntropy, optimizer_second, \"ResNet18-2\")"
   ]
  },
  {
   "cell_type": "code",
   "execution_count": 16,
   "metadata": {
    "id": "nCnETnfayW4A"
   },
   "outputs": [],
   "source": [
    "import torchvision.models as models\n",
    "\n",
    "weights = models.ResNet18_Weights.DEFAULT\n",
    "restnet_model_third = models.resnet18(weights = weights).to(device)\n",
    "\n",
    "restnet_model_third.fc = nn.Linear(512, 10).to(device)\n",
    "\n",
    "crossEntropy = nn.CrossEntropyLoss()\n",
    "optimizer_third = torch.optim.Adam(restnet_model_third.parameters(), lr=0.0001)"
   ]
  },
  {
   "cell_type": "code",
   "execution_count": 17,
   "metadata": {
    "colab": {
     "base_uri": "https://localhost:8080/"
    },
    "id": "yupdmlEypsQJ",
    "outputId": "27fc53ca-ba59-4dab-bf6e-6bd1f7e88f4c"
   },
   "outputs": [
    {
     "name": "stdout",
     "output_type": "stream",
     "text": [
      "Epoch\t|ResNet18-3:\tTrain Loss\tVal Loss\tAcc\n",
      "1\t|\t\t0.8544\t\t0.4074\t\t87.47%\n",
      "2\t|\t\t0.2349\t\t0.2991\t\t90.53%\n",
      "3\t|\t\t0.1391\t\t0.2541\t\t93.47%\n",
      "4\t|\t\t0.0769\t\t0.2395\t\t93.07%\n",
      "5\t|\t\t0.0453\t\t0.2323\t\t92.80%\n",
      "6\t|\t\t0.0375\t\t0.2312\t\t92.40%\n",
      "7\t|\t\t0.0332\t\t0.2637\t\t92.00%\n",
      "8\t|\t\t0.0220\t\t0.2274\t\t93.33%\n",
      "9\t|\t\t0.0170\t\t0.2393\t\t93.47%\n",
      "10\t|\t\t0.0149\t\t0.1941\t\t93.73%\n",
      "11\t|\t\t0.0104\t\t0.2180\t\t93.07%\n",
      "12\t|\t\t0.0099\t\t0.2273\t\t94.53%\n",
      "13\t|\t\t0.0109\t\t0.2172\t\t93.60%\n",
      "14\t|\t\t0.0084\t\t0.2236\t\t93.20%\n",
      "15\t|\t\t0.0057\t\t0.2619\t\t92.40%\n",
      "16\t|\t\t0.0127\t\t0.3670\t\t89.60%\n",
      "17\t|\t\t0.0191\t\t0.2635\t\t92.53%\n",
      "18\t|\t\t0.0223\t\t0.3284\t\t90.67%\n",
      "19\t|\t\t0.0184\t\t0.2839\t\t92.27%\n",
      "20\t|\t\t0.0113\t\t0.2338\t\t92.93%\n",
      "21\t|\t\t0.0086\t\t0.2617\t\t92.27%\n",
      "22\t|\t\t0.0085\t\t0.2389\t\t93.73%\n",
      "23\t|\t\t0.0053\t\t0.2152\t\t94.27%\n",
      "24\t|\t\t0.0031\t\t0.2230\t\t93.73%\n",
      "25\t|\t\t0.0026\t\t0.2120\t\t94.53%\n",
      "26\t|\t\t0.0024\t\t0.2082\t\t94.53%\n",
      "27\t|\t\t0.0027\t\t0.2177\t\t93.87%\n",
      "28\t|\t\t0.0028\t\t0.2075\t\t92.80%\n",
      "29\t|\t\t0.0018\t\t0.1904\t\t94.93%\n",
      "30\t|\t\t0.0018\t\t0.2087\t\t94.40%\n",
      "\n",
      "Best accuracy: 94.93% achieved at epoch 29 for ResNet18-3\n"
     ]
    }
   ],
   "source": [
    "best_resnet_third, acc_third = train_process(restnet_model_third, crossEntropy, optimizer_third, \"ResNet18-3\")"
   ]
  },
  {
   "cell_type": "code",
   "execution_count": 18,
   "metadata": {
    "colab": {
     "base_uri": "https://localhost:8080/"
    },
    "id": "AGCzxqoztYMx",
    "outputId": "fc2e9e47-f1ac-4a2e-ec48-c14744aedf82"
   },
   "outputs": [
    {
     "name": "stdout",
     "output_type": "stream",
     "text": [
      "Best ResNet selected with accuracy: 95.33%\n"
     ]
    }
   ],
   "source": [
    "acc_s = max(acc_base, acc_second, acc_third)\n",
    "\n",
    "if acc_s == acc_third:\n",
    "    best_ResNet = best_resnet_third\n",
    "elif acc_s == acc_second:\n",
    "    best_ResNet = best_resnet_second\n",
    "elif acc_s == acc_base:\n",
    "    best_ResNet = best_resnet_base\n",
    "\n",
    "print(f\"Best ResNet selected with accuracy: {acc_s * 100:.2f}%\")"
   ]
  },
  {
   "cell_type": "markdown",
   "metadata": {
    "id": "Zodp-puH3wzC"
   },
   "source": [
    "When evaluating the performance of the three models, Model 2 emerged as the best-performing model, achieving the highest validation accuracy. This performance is a result of its balanced approach, which leverages both computational efficiency and the ability to learn more complex features. While not all layers were trained, Model 2 demonstrated significant adaptability, making it particularly suitable for scenarios where a balance between computational cost and accuracy is essential.\n",
    "\n",
    "Model 3 delivered strong performance. Although it did not surpass Model 2, its success stems from the training of all layers, enabling the model to learn both low-level and high-level features specific to the dataset. This full adaptation results in robust predictive capabilities, albeit at the expense of higher computational cost and longer training time. Model 3 is ideal for use cases where maximum accuracy is critical, and computational resources are sufficient.\n",
    "\n",
    "Model 1, on the other hand, the lowest among the three models. Since only the final layer was trained, its ability to adapt to the dataset's specific features was limited. However, its primary advantage lies in its minimal computational cost and faster training time, making it a viable option for scenarios where efficiency and resource constraints are the main priorities.\n",
    "\n",
    "In conclusion, Model 2 provides the optimal trade-off between performance and efficiency, making it the most practical choice in many situations. Model 3 excels when accuracy is paramount, while Model 1 serves as an efficient solution for rapid training with limited resources."
   ]
  },
  {
   "cell_type": "markdown",
   "metadata": {
    "id": "biAtQZdWs_xy"
   },
   "source": [
    "### 2.4 Evaluate the fine-tuned ResNet18 model"
   ]
  },
  {
   "cell_type": "code",
   "execution_count": 19,
   "metadata": {
    "colab": {
     "base_uri": "https://localhost:8080/",
     "height": 615
    },
    "id": "4DYImwx7s_xy",
    "outputId": "320dcd7b-c6ac-4a5a-ada1-49cea0728d31"
   },
   "outputs": [
    {
     "name": "stdout",
     "output_type": "stream",
     "text": [
      "Accuracy: 0.9320\n",
      " Precision: 0.9319\n",
      " Recall: 0.9320\n",
      " F1: 0.9318\n",
      "\n"
     ]
    },
    {
     "data": {
      "image/png": "[encoded data removed]",
      "text/plain": [
       "<Figure size 600x500 with 2 Axes>"
      ]
     },
     "metadata": {},
     "output_type": "display_data"
    }
   ],
   "source": [
    "test_process(best_ResNet)"
   ]
  },
  {
   "cell_type": "markdown",
   "metadata": {
    "id": "M9Fj4CVEuh3a"
   },
   "source": [
    "The metrics of the ResNet18 model demonstrate that it has performed quite successfully. The consistency between precision and recall values indicates that the model is effective not only in making accurate classifications but also in correctly identifying positive classes. This proves that the model can accurately distinguish most of the classes. However, some confusion among certain classes is noticeable, likely due to the visual similarities between these classes. Overall, the model exhibits a high accuracy rate and requires improvements in only a few classes.\n",
    "\n",
    "The ResNet18 model shows a clear superiority compared to the CNN model designed from scratch. ResNet18, with its pretrained ImageNet weights, has the ability to learn more complex and distinctive features. These features have been successfully adapted to the Animal-10 dataset, significantly enhancing the model's accuracy. In contrast, the CNN model trained from scratch has a more limited architecture and learning capacity, which prevented it from achieving the same level of performance. This is a direct result of ResNet18's more robust architecture and reliance on pretrained knowledge."
   ]
  },
  {
   "cell_type": "markdown",
   "metadata": {
    "id": "16ONKvGqcmcQ"
   },
   "source": [
    "### 2.5 Kaggle test result"
   ]
  },
  {
   "cell_type": "code",
   "execution_count": 20,
   "metadata": {
    "colab": {
     "base_uri": "https://localhost:8080/",
     "height": 17
    },
    "id": "gxV3si-m9tq7",
    "outputId": "12194d9e-ead0-4645-f3ef-084293d95873"
   },
   "outputs": [
    {
     "data": {
      "application/javascript": [
       "\n",
       "    async function download(id, filename, size) {\n",
       "      if (!google.colab.kernel.accessAllowed) {\n",
       "        return;\n",
       "      }\n",
       "      const div = document.createElement('div');\n",
       "      const label = document.createElement('label');\n",
       "      label.textContent = `Downloading \"${filename}\": `;\n",
       "      div.appendChild(label);\n",
       "      const progress = document.createElement('progress');\n",
       "      progress.max = size;\n",
       "      div.appendChild(progress);\n",
       "      document.body.appendChild(div);\n",
       "\n",
       "      const buffers = [];\n",
       "      let downloaded = 0;\n",
       "\n",
       "      const channel = await google.colab.kernel.comms.open(id);\n",
       "      // Send a message to notify the kernel that we're ready.\n",
       "      channel.send({})\n",
       "\n",
       "      for await (const message of channel.messages) {\n",
       "        // Send a message to notify the kernel that we're ready.\n",
       "        channel.send({})\n",
       "        if (message.buffers) {\n",
       "          for (const buffer of message.buffers) {\n",
       "            buffers.push(buffer);\n",
       "            downloaded += buffer.byteLength;\n",
       "            progress.value = downloaded;\n",
       "          }\n",
       "        }\n",
       "      }\n",
       "      const blob = new Blob(buffers, {type: 'application/binary'});\n",
       "      const a = document.createElement('a');\n",
       "      a.href = window.URL.createObjectURL(blob);\n",
       "      a.download = filename;\n",
       "      div.appendChild(a);\n",
       "      a.click();\n",
       "      div.remove();\n",
       "    }\n",
       "  "
      ],
      "text/plain": [
       "<IPython.core.display.Javascript object>"
      ]
     },
     "metadata": {},
     "output_type": "display_data"
    },
    {
     "data": {
      "application/javascript": [
       "download(\"download_b5ecd64d-0d4e-4c15-ade2-94e87489f54e\", \"ResNet18.csv\", 8522)"
      ],
      "text/plain": [
       "<IPython.core.display.Javascript object>"
      ]
     },
     "metadata": {},
     "output_type": "display_data"
    }
   ],
   "source": [
    "Kaggle(best_ResNet, \"ResNet18\")"
   ]
  },
  {
   "cell_type": "markdown",
   "metadata": {
    "id": "krxoxdjevGru"
   },
   "source": [
    "#### Kaggle result : 0.953 (username = RdncRc)"
   ]
  },
  {
   "cell_type": "markdown",
   "metadata": {
    "id": "Np2c-Nx5vG7V"
   },
   "source": [
    "A Kaggle score of 0.953 demonstrates that the model has successfully performed classification, proving that the choice of model, fine-tuning strategy, and training processes were effective. However, considering the confusion observed in some classes and the computational costs, this performance could be further improved in the future by using lighter models or making dataset-specific enhancements."
   ]
  },
  {
   "cell_type": "markdown",
   "metadata": {
    "id": "998AhkSqxRLr"
   },
   "source": [
    "### 2.7. Load the pre-trained MobileNet model"
   ]
  },
  {
   "cell_type": "code",
   "execution_count": 21,
   "metadata": {
    "colab": {
     "base_uri": "https://localhost:8080/"
    },
    "collapsed": true,
    "id": "Eas9qmLFxRLs",
    "jupyter": {
     "outputs_hidden": true
    },
    "outputId": "f77b44f5-f4dd-4844-84ce-d09da5d67f8e"
   },
   "outputs": [
    {
     "data": {
      "text/plain": [
       "=============================================================================================================================\n",
       "Layer (type:depth-idx)                             Input Shape               Output Shape              Trainable\n",
       "=============================================================================================================================\n",
       "MobileNetV2                                        [1, 3, 256, 256]          [1, 1000]                 True\n",
       "├─Sequential: 1-1                                  [1, 3, 256, 256]          [1, 1280, 8, 8]           True\n",
       "│    └─Conv2dNormActivation: 2-1                   [1, 3, 256, 256]          [1, 32, 128, 128]         True\n",
       "│    │    └─Conv2d: 3-1                            [1, 3, 256, 256]          [1, 32, 128, 128]         True\n",
       "│    │    └─BatchNorm2d: 3-2                       [1, 32, 128, 128]         [1, 32, 128, 128]         True\n",
       "│    │    └─ReLU6: 3-3                             [1, 32, 128, 128]         [1, 32, 128, 128]         --\n",
       "│    └─InvertedResidual: 2-2                       [1, 32, 128, 128]         [1, 16, 128, 128]         True\n",
       "│    │    └─Sequential: 3-4                        [1, 32, 128, 128]         [1, 16, 128, 128]         True\n",
       "│    └─InvertedResidual: 2-3                       [1, 16, 128, 128]         [1, 24, 64, 64]           True\n",
       "│    │    └─Sequential: 3-5                        [1, 16, 128, 128]         [1, 24, 64, 64]           True\n",
       "│    └─InvertedResidual: 2-4                       [1, 24, 64, 64]           [1, 24, 64, 64]           True\n",
       "│    │    └─Sequential: 3-6                        [1, 24, 64, 64]           [1, 24, 64, 64]           True\n",
       "│    └─InvertedResidual: 2-5                       [1, 24, 64, 64]           [1, 32, 32, 32]           True\n",
       "│    │    └─Sequential: 3-7                        [1, 24, 64, 64]           [1, 32, 32, 32]           True\n",
       "│    └─InvertedResidual: 2-6                       [1, 32, 32, 32]           [1, 32, 32, 32]           True\n",
       "│    │    └─Sequential: 3-8                        [1, 32, 32, 32]           [1, 32, 32, 32]           True\n",
       "│    └─InvertedResidual: 2-7                       [1, 32, 32, 32]           [1, 32, 32, 32]           True\n",
       "│    │    └─Sequential: 3-9                        [1, 32, 32, 32]           [1, 32, 32, 32]           True\n",
       "│    └─InvertedResidual: 2-8                       [1, 32, 32, 32]           [1, 64, 16, 16]           True\n",
       "│    │    └─Sequential: 3-10                       [1, 32, 32, 32]           [1, 64, 16, 16]           True\n",
       "│    └─InvertedResidual: 2-9                       [1, 64, 16, 16]           [1, 64, 16, 16]           True\n",
       "│    │    └─Sequential: 3-11                       [1, 64, 16, 16]           [1, 64, 16, 16]           True\n",
       "│    └─InvertedResidual: 2-10                      [1, 64, 16, 16]           [1, 64, 16, 16]           True\n",
       "│    │    └─Sequential: 3-12                       [1, 64, 16, 16]           [1, 64, 16, 16]           True\n",
       "│    └─InvertedResidual: 2-11                      [1, 64, 16, 16]           [1, 64, 16, 16]           True\n",
       "│    │    └─Sequential: 3-13                       [1, 64, 16, 16]           [1, 64, 16, 16]           True\n",
       "│    └─InvertedResidual: 2-12                      [1, 64, 16, 16]           [1, 96, 16, 16]           True\n",
       "│    │    └─Sequential: 3-14                       [1, 64, 16, 16]           [1, 96, 16, 16]           True\n",
       "│    └─InvertedResidual: 2-13                      [1, 96, 16, 16]           [1, 96, 16, 16]           True\n",
       "│    │    └─Sequential: 3-15                       [1, 96, 16, 16]           [1, 96, 16, 16]           True\n",
       "│    └─InvertedResidual: 2-14                      [1, 96, 16, 16]           [1, 96, 16, 16]           True\n",
       "│    │    └─Sequential: 3-16                       [1, 96, 16, 16]           [1, 96, 16, 16]           True\n",
       "│    └─InvertedResidual: 2-15                      [1, 96, 16, 16]           [1, 160, 8, 8]            True\n",
       "│    │    └─Sequential: 3-17                       [1, 96, 16, 16]           [1, 160, 8, 8]            True\n",
       "│    └─InvertedResidual: 2-16                      [1, 160, 8, 8]            [1, 160, 8, 8]            True\n",
       "│    │    └─Sequential: 3-18                       [1, 160, 8, 8]            [1, 160, 8, 8]            True\n",
       "│    └─InvertedResidual: 2-17                      [1, 160, 8, 8]            [1, 160, 8, 8]            True\n",
       "│    │    └─Sequential: 3-19                       [1, 160, 8, 8]            [1, 160, 8, 8]            True\n",
       "│    └─InvertedResidual: 2-18                      [1, 160, 8, 8]            [1, 320, 8, 8]            True\n",
       "│    │    └─Sequential: 3-20                       [1, 160, 8, 8]            [1, 320, 8, 8]            True\n",
       "│    └─Conv2dNormActivation: 2-19                  [1, 320, 8, 8]            [1, 1280, 8, 8]           True\n",
       "│    │    └─Conv2d: 3-21                           [1, 320, 8, 8]            [1, 1280, 8, 8]           True\n",
       "│    │    └─BatchNorm2d: 3-22                      [1, 1280, 8, 8]           [1, 1280, 8, 8]           True\n",
       "│    │    └─ReLU6: 3-23                            [1, 1280, 8, 8]           [1, 1280, 8, 8]           --\n",
       "├─Sequential: 1-2                                  [1, 1280]                 [1, 1000]                 True\n",
       "│    └─Dropout: 2-20                               [1, 1280]                 [1, 1280]                 --\n",
       "│    └─Linear: 2-21                                [1, 1280]                 [1, 1000]                 True\n",
       "=============================================================================================================================\n",
       "Total params: 3,504,872\n",
       "Trainable params: 3,504,872\n",
       "Non-trainable params: 0\n",
       "Total mult-adds (M): 392.49\n",
       "=============================================================================================================================\n",
       "Input size (MB): 0.79\n",
       "Forward/backward pass size (MB): 139.57\n",
       "Params size (MB): 14.02\n",
       "Estimated Total Size (MB): 154.37\n",
       "============================================================================================================================="
      ]
     },
     "execution_count": 21,
     "metadata": {},
     "output_type": "execute_result"
    }
   ],
   "source": [
    "import torchvision.models as models\n",
    "\n",
    "weights = models.MobileNet_V2_Weights.DEFAULT\n",
    "mobilenet_model_base = models.mobilenet_v2(weights = weights).to(device)\n",
    "\n",
    "summary(mobilenet_model_base, input_size=(1, 3, 256, 256), col_names=[\"input_size\", \"output_size\", \"trainable\"])"
   ]
  },
  {
   "cell_type": "markdown",
   "metadata": {
    "id": "RkIZHLEXxcFu"
   },
   "source": [
    "### 2.8 Modify the MobileNet model for transfer learning"
   ]
  },
  {
   "cell_type": "code",
   "execution_count": 22,
   "metadata": {
    "id": "tFW5CF46xcFv"
   },
   "outputs": [],
   "source": [
    "for param in mobilenet_model_base.features.parameters():\n",
    "    param.requires_grad = False\n",
    "\n",
    "mobilenet_model_base.classifier = nn.Linear(1280, 10).to(device)\n",
    "\n",
    "for param in mobilenet_model_base.classifier.parameters():\n",
    "    param.requires_grad = True\n",
    "\n",
    "crossEntropy = nn.CrossEntropyLoss()\n",
    "optimizer_base = torch.optim.Adam(mobilenet_model_base.parameters(), lr=0.0001)"
   ]
  },
  {
   "cell_type": "code",
   "execution_count": 23,
   "metadata": {
    "colab": {
     "base_uri": "https://localhost:8080/"
    },
    "id": "Acg8H_iDvrU9",
    "outputId": "5de66096-4a8d-4ba8-e295-a8f5f98afde2"
   },
   "outputs": [
    {
     "name": "stdout",
     "output_type": "stream",
     "text": [
      "Epoch\t|MobileNet18-1:\tTrain Loss\tVal Loss\tAcc\n",
      "1\t|\t\t2.1917\t\t2.0649\t\t49.73%\n",
      "2\t|\t\t1.9702\t\t1.8679\t\t74.53%\n",
      "3\t|\t\t1.7730\t\t1.6864\t\t79.20%\n",
      "4\t|\t\t1.6019\t\t1.5187\t\t82.80%\n",
      "5\t|\t\t1.4441\t\t1.3847\t\t86.27%\n",
      "6\t|\t\t1.3281\t\t1.2467\t\t86.93%\n",
      "7\t|\t\t1.2078\t\t1.1574\t\t87.47%\n",
      "8\t|\t\t1.1117\t\t1.0766\t\t87.87%\n",
      "9\t|\t\t1.0234\t\t1.0064\t\t87.20%\n",
      "10\t|\t\t0.9573\t\t0.9391\t\t86.93%\n",
      "11\t|\t\t0.8916\t\t0.8667\t\t88.27%\n",
      "12\t|\t\t0.8416\t\t0.8245\t\t87.73%\n",
      "13\t|\t\t0.7920\t\t0.7880\t\t88.40%\n",
      "14\t|\t\t0.7506\t\t0.7768\t\t86.80%\n",
      "15\t|\t\t0.7182\t\t0.7092\t\t89.60%\n",
      "16\t|\t\t0.6740\t\t0.6790\t\t89.60%\n",
      "17\t|\t\t0.6533\t\t0.6721\t\t88.27%\n",
      "18\t|\t\t0.6268\t\t0.6339\t\t88.53%\n",
      "19\t|\t\t0.6097\t\t0.6300\t\t87.73%\n",
      "20\t|\t\t0.5779\t\t0.6002\t\t88.80%\n",
      "21\t|\t\t0.5675\t\t0.5589\t\t89.73%\n",
      "22\t|\t\t0.5426\t\t0.5557\t\t89.33%\n",
      "23\t|\t\t0.5310\t\t0.5433\t\t88.67%\n",
      "24\t|\t\t0.5119\t\t0.5228\t\t89.73%\n",
      "25\t|\t\t0.5009\t\t0.5149\t\t90.00%\n",
      "26\t|\t\t0.4867\t\t0.4993\t\t89.20%\n",
      "27\t|\t\t0.4826\t\t0.5080\t\t89.60%\n",
      "28\t|\t\t0.4623\t\t0.4644\t\t90.80%\n",
      "29\t|\t\t0.4501\t\t0.4841\t\t89.60%\n",
      "30\t|\t\t0.4527\t\t0.4692\t\t89.60%\n",
      "\n",
      "Best accuracy: 90.80% achieved at epoch 28 for MobileNet18-1\n"
     ]
    }
   ],
   "source": [
    "best_mobilenet_base, acc_base = train_process(mobilenet_model_base, crossEntropy, optimizer_base, \"MobileNet18-1\")"
   ]
  },
  {
   "cell_type": "code",
   "execution_count": 24,
   "metadata": {
    "id": "8Mf3sXu7ygD1"
   },
   "outputs": [],
   "source": [
    "import torchvision.models as models\n",
    "\n",
    "weights = models.MobileNet_V2_Weights.DEFAULT\n",
    "mobilenet_model_second = models.mobilenet_v2(weights = weights).to(device)\n",
    "\n",
    "mobilenet_model_second.classifier = nn.Linear(1280, 10).to(device)\n",
    "\n",
    "crossEntropy = nn.CrossEntropyLoss()\n",
    "optimizer_second = torch.optim.Adam(mobilenet_model_second.parameters(), lr=0.0001)"
   ]
  },
  {
   "cell_type": "code",
   "execution_count": 25,
   "metadata": {
    "colab": {
     "base_uri": "https://localhost:8080/"
    },
    "id": "ph-yeItHv4-z",
    "outputId": "077691c7-ce99-46d2-8a2e-38370e57df05"
   },
   "outputs": [
    {
     "name": "stdout",
     "output_type": "stream",
     "text": [
      "Epoch\t|MobileNet18-2:\tTrain Loss\tVal Loss\tAcc\n",
      "1\t|\t\t1.7107\t\t0.9769\t\t87.07%\n",
      "2\t|\t\t0.6248\t\t0.4137\t\t90.00%\n",
      "3\t|\t\t0.2936\t\t0.2691\t\t92.93%\n",
      "4\t|\t\t0.1937\t\t0.2454\t\t92.40%\n",
      "5\t|\t\t0.1385\t\t0.2162\t\t93.87%\n",
      "6\t|\t\t0.1056\t\t0.2058\t\t94.27%\n",
      "7\t|\t\t0.0776\t\t0.1978\t\t93.47%\n",
      "8\t|\t\t0.0653\t\t0.2074\t\t93.87%\n",
      "9\t|\t\t0.0487\t\t0.2018\t\t94.53%\n",
      "10\t|\t\t0.0353\t\t0.1807\t\t94.67%\n",
      "11\t|\t\t0.0276\t\t0.2093\t\t93.87%\n",
      "12\t|\t\t0.0255\t\t0.2061\t\t94.93%\n",
      "13\t|\t\t0.0216\t\t0.2069\t\t94.67%\n",
      "14\t|\t\t0.0185\t\t0.2168\t\t94.27%\n",
      "15\t|\t\t0.0187\t\t0.1928\t\t95.20%\n",
      "16\t|\t\t0.0174\t\t0.1907\t\t95.47%\n",
      "17\t|\t\t0.0137\t\t0.1943\t\t95.47%\n",
      "18\t|\t\t0.0149\t\t0.2066\t\t93.87%\n",
      "19\t|\t\t0.0152\t\t0.1803\t\t95.07%\n",
      "20\t|\t\t0.0155\t\t0.2174\t\t93.87%\n",
      "21\t|\t\t0.0157\t\t0.2412\t\t93.87%\n",
      "22\t|\t\t0.0120\t\t0.1994\t\t94.80%\n",
      "23\t|\t\t0.0103\t\t0.2051\t\t95.07%\n",
      "24\t|\t\t0.0125\t\t0.2125\t\t94.67%\n",
      "25\t|\t\t0.0120\t\t0.1924\t\t94.80%\n",
      "26\t|\t\t0.0072\t\t0.1820\t\t94.67%\n",
      "27\t|\t\t0.0057\t\t0.2224\t\t94.93%\n",
      "28\t|\t\t0.0090\t\t0.2415\t\t94.00%\n",
      "29\t|\t\t0.0073\t\t0.2001\t\t94.27%\n",
      "30\t|\t\t0.0077\t\t0.2399\t\t94.27%\n",
      "\n",
      "Best accuracy: 95.47% achieved at epoch 16 for MobileNet18-2\n"
     ]
    }
   ],
   "source": [
    "best_mobilenet_second, acc_second = train_process(mobilenet_model_second, crossEntropy, optimizer_second, \"MobileNet18-2\")"
   ]
  },
  {
   "cell_type": "code",
   "execution_count": 26,
   "metadata": {
    "colab": {
     "base_uri": "https://localhost:8080/"
    },
    "id": "qYRteZO8wDPR",
    "outputId": "c223662c-be55-44f4-959f-7976125f3909"
   },
   "outputs": [
    {
     "name": "stdout",
     "output_type": "stream",
     "text": [
      "Best MobileNet selected with accuracy: 95.47%\n"
     ]
    }
   ],
   "source": [
    "acc_s = max(acc_base, acc_second)\n",
    "\n",
    "if acc_s == acc_second:\n",
    "    best_MobileNet = best_mobilenet_second\n",
    "elif acc_s == acc_base:\n",
    "    best_MobileNet = best_mobilenet_base\n",
    "\n",
    "print(f\"Best MobileNet selected with accuracy: {acc_s * 100:.2f}%\")"
   ]
  },
  {
   "cell_type": "markdown",
   "metadata": {
    "id": "SBEZnnsXxcFy"
   },
   "source": [
    "Model 1 significantly improved its validation accuracy throughout the training process. The consistent decrease in both training and validation losses indicates that the model converged properly. However, after a certain epoch, the increase in validation accuracy became quite limited.\n",
    "\n",
    "In contrast, Model 2 demonstrated superior performance in terms of validation accuracy. This suggests that Model 2 has a higher generalization capacity and is better at distinguishing between the classes in the dataset.\n",
    "\n",
    "Model 2 outperformed Model 1 in terms of validation accuracy. The reason for this success lies in the fact that deeper layers of Model 2 were unfrozen and trained. This allowed Model 2 to leverage both the pretrained features and learn more complex features specific to the dataset. On the other hand, Model 1, having only trained the final layers, had a more limited learning capacity."
   ]
  },
  {
   "cell_type": "markdown",
   "metadata": {
    "id": "Jnv5mIdtyr71"
   },
   "source": [
    "### 2.9 Evaluate the fine-tuned MobileNet model"
   ]
  },
  {
   "cell_type": "code",
   "execution_count": 27,
   "metadata": {
    "colab": {
     "base_uri": "https://localhost:8080/",
     "height": 615
    },
    "id": "FIs86Z-vyr72",
    "outputId": "a8740c14-40a1-456e-a9e3-82dc2649d544"
   },
   "outputs": [
    {
     "name": "stdout",
     "output_type": "stream",
     "text": [
      "Accuracy: 0.9440\n",
      " Precision: 0.9445\n",
      " Recall: 0.9440\n",
      " F1: 0.9439\n",
      "\n"
     ]
    },
    {
     "data": {
      "image/png": "[encoded data removed]",
      "text/plain": [
       "<Figure size 600x500 with 2 Axes>"
      ]
     },
     "metadata": {},
     "output_type": "display_data"
    }
   ],
   "source": [
    "test_process(best_MobileNet)"
   ]
  },
  {
   "cell_type": "markdown",
   "metadata": {
    "id": "msxUXz2m-Kwc"
   },
   "source": [
    "The metrics of the MobileNetV2 model demonstrate that it has achieved excellent performance, with high accuracy, precision, recall, and F1-score values. Thanks to its lightweight architecture and pretrained weights, the model provides an efficient solution in terms of both performance and computational cost. The consistency between precision and recall indicates that the model is effective not only in making accurate classifications but also in correctly identifying positive classes. However, minor confusion between some visually similar classes suggests areas where improvements can be made.\n",
    "\n",
    "When compared to the CNN model designed from scratch, MobileNetV2 shows clear superiority. While the CNN model is effective to a certain extent, it lacks the depth and pretrained feature extraction capabilities of MobileNetV2. Leveraging its pretrained weights from ImageNet, MobileNetV2 can learn more complex and distinctive features and adapt them effectively to the Animal-10 dataset. This enables MobileNetV2 to achieve significantly higher accuracy and generalization compared to the CNN model, which has a more limited architecture and learning capacity.\n",
    "\n",
    "When comparing MobileNetV2 and ResNet18, both models demonstrate strong performance, but their differences lie in efficiency and adaptability. MobileNetV2 is designed as a lightweight architecture, making it computationally efficient and suitable for scenarios with limited resources or where faster inference is required. It achieves competitive accuracy, precision, and recall while maintaining lower computational costs. This efficiency makes it a great choice for real-time applications or deployment on devices with limited hardware.\n",
    "\n",
    "On the other hand, ResNet18 benefits from a deeper architecture, which allows it to learn more detailed and complex features. This gives ResNet18 a slight edge in scenarios where maximum accuracy is prioritized over computational efficiency. Its ability to capture richer feature representations makes it more suitable for datasets with highly complex patterns or subtle class differences."
   ]
  },
  {
   "cell_type": "markdown",
   "metadata": {
    "id": "mqxqlRDozR7q"
   },
   "source": [
    "### 2.10 Kaggle test result"
   ]
  },
  {
   "cell_type": "code",
   "execution_count": 28,
   "metadata": {
    "colab": {
     "base_uri": "https://localhost:8080/",
     "height": 17
    },
    "id": "48RI_bFBJzzV",
    "outputId": "ac999a42-8487-4c4a-9677-195a117443f6"
   },
   "outputs": [
    {
     "data": {
      "application/javascript": [
       "\n",
       "    async function download(id, filename, size) {\n",
       "      if (!google.colab.kernel.accessAllowed) {\n",
       "        return;\n",
       "      }\n",
       "      const div = document.createElement('div');\n",
       "      const label = document.createElement('label');\n",
       "      label.textContent = `Downloading \"${filename}\": `;\n",
       "      div.appendChild(label);\n",
       "      const progress = document.createElement('progress');\n",
       "      progress.max = size;\n",
       "      div.appendChild(progress);\n",
       "      document.body.appendChild(div);\n",
       "\n",
       "      const buffers = [];\n",
       "      let downloaded = 0;\n",
       "\n",
       "      const channel = await google.colab.kernel.comms.open(id);\n",
       "      // Send a message to notify the kernel that we're ready.\n",
       "      channel.send({})\n",
       "\n",
       "      for await (const message of channel.messages) {\n",
       "        // Send a message to notify the kernel that we're ready.\n",
       "        channel.send({})\n",
       "        if (message.buffers) {\n",
       "          for (const buffer of message.buffers) {\n",
       "            buffers.push(buffer);\n",
       "            downloaded += buffer.byteLength;\n",
       "            progress.value = downloaded;\n",
       "          }\n",
       "        }\n",
       "      }\n",
       "      const blob = new Blob(buffers, {type: 'application/binary'});\n",
       "      const a = document.createElement('a');\n",
       "      a.href = window.URL.createObjectURL(blob);\n",
       "      a.download = filename;\n",
       "      div.appendChild(a);\n",
       "      a.click();\n",
       "      div.remove();\n",
       "    }\n",
       "  "
      ],
      "text/plain": [
       "<IPython.core.display.Javascript object>"
      ]
     },
     "metadata": {},
     "output_type": "display_data"
    },
    {
     "data": {
      "application/javascript": [
       "download(\"download_043f978c-de29-4537-99a8-9dd80cf26f96\", \"MobileNetV2.csv\", 8555)"
      ],
      "text/plain": [
       "<IPython.core.display.Javascript object>"
      ]
     },
     "metadata": {},
     "output_type": "display_data"
    }
   ],
   "source": [
    "Kaggle(best_MobileNet, \"MobileNetV2\")"
   ]
  },
  {
   "cell_type": "markdown",
   "metadata": {
    "id": "8qhLr175-ycX"
   },
   "source": [
    "#### Kaggle result : 0.949 (username = RdncRc)"
   ]
  },
  {
   "cell_type": "markdown",
   "metadata": {
    "id": "ot4qgOuA-yiQ"
   },
   "source": [
    "The 94.9% accuracy score achieved by the MobileNetV2 model on Kaggle demonstrates its outstanding performance. This result proves that MobileNetV2 can achieve high accuracy despite its lightweight structure. The success of the model stems from its ability to leverage pretrained ImageNet weights to learn more complex and distinctive features. These features have been effectively adapted to the Animal-10 dataset, resulting in high accuracy."
   ]
  },
  {
   "cell_type": "markdown",
   "metadata": {
    "id": "7N7lt6OG1cz7"
   },
   "source": [
    "## 3 Analyze advantages and disadvantages\n",
    "\n"
   ]
  },
  {
   "cell_type": "markdown",
   "metadata": {
    "id": "dC4kRc9XBvwd"
   },
   "source": [
    "The comparison between transfer learning and training from scratch shows that transfer learning is generally more advantageous. Transfer learning accelerates training by leveraging pretrained model weights and achieves high accuracy with less data. Models like ResNet18 and MobileNetV2 utilize features learned on ImageNet to deliver strong generalization performance, even with limited datasets. In contrast, training from scratch allows for full optimization of the model for the specific task but requires significantly more data and computational power. This approach becomes particularly meaningful for large datasets.\n",
    "\n",
    "In the comparison between MobileNetV2 and ResNet18, MobileNetV2's lightweight structure and low computational cost stand out. These characteristics make MobileNetV2 an ideal choice for resource-constrained environments or real-time applications. ResNet18, on the other hand, benefits from its deeper architecture, enabling it to learn more complex features and providing a slight accuracy advantage. However, this increase in accuracy typically comes with higher computational costs. The fact that both models achieve very high accuracy demonstrates that transfer learning is an exceptionally effective method for classification tasks.\n",
    "\n",
    "Compared to the CNN model designed from scratch, models utilizing transfer learning have a clear superiority. While the CNN model can only learn limited features, models like ResNet18 and MobileNetV2, which rely on pretrained knowledge, can extract more complex and distinctive features. This makes transfer learning models superior in terms of both accuracy and generalization capability.\n",
    "\n",
    "\n",
    "\n",
    "\n",
    "\n",
    "\n"
   ]
  },
  {
   "cell_type": "markdown",
   "metadata": {
    "id": "VzKT_ySYAit8"
   },
   "source": [
    "| **Metric**              | **rebuildCNN** | **ResNet18**       | **MobileNetV2**    |\n",
    "|-------------------------|-------------------------|---------------------|---------------------|\n",
    "| **Validation Accuracy** | ~67%                   | ~93%               | ~94%               |\n",
    "| **Precision**           | ~67%                   | ~93%             | ~94%             |\n",
    "| **Recall**              | ~67%                   | ~93%             | ~94%             |\n",
    "| **F1-Score**            | ~66%                   | ~93%             | ~94%             |\n",
    "| **Training Time**       | High                   | Moderate           | Low                |\n",
    "| **Computational Cost**  | High                   | Moderate           | Low                |\n",
    "| **Model Complexity**    | Simple                 | Moderate           | Lightweight         |\n",
    "| **Adaptability**        | Limited                | High               | High               |\n"
   ]
  },
  {
   "cell_type": "code",
   "execution_count": 28,
   "metadata": {
    "id": "ew6Y-oq4wltd"
   },
   "outputs": [],
   "source": []
  }
 ],
 "metadata": {
  "accelerator": "GPU",
  "colab": {
   "collapsed_sections": [
    "998AhkSqxRLr",
    "RkIZHLEXxcFu"
   ],
   "gpuType": "A100",
   "machine_shape": "hm",
   "provenance": []
  },
  "kernelspec": {
   "display_name": "Python [conda env:base] *",
   "language": "python",
   "name": "conda-base-py"
  },
  "language_info": {
   "codemirror_mode": {
    "name": "ipython",
    "version": 3
   },
   "file_extension": ".py",
   "mimetype": "text/x-python",
   "name": "python",
   "nbconvert_exporter": "python",
   "pygments_lexer": "ipython3",
   "version": "3.12.7"
  }
 },
 "nbformat": 4,
 "nbformat_minor": 4
}
